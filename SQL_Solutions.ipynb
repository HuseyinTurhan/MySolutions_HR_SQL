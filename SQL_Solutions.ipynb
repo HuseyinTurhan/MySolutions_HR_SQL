{
 "cells": [
  {
   "cell_type": "markdown",
   "metadata": {},
   "source": [
    "# Revising the Select Query I\n",
    "<a>Task</a> : Query all columns for all American cities in the CITY table with populations larger than 100000. The CountryCode for America is USA.\n",
    "\n",
    "The CITY table is described as follows:\n",
    "<image src=\"images/city_table.jpg\" width = \"300\"/>"
   ]
  },
  {
   "cell_type": "code",
   "execution_count": null,
   "metadata": {
    "vscode": {
     "languageId": "sql"
    }
   },
   "outputs": [],
   "source": [
    "select *\n",
    "from city\n",
    "where population > 100000 and countrycode = \"USA\""
   ]
  },
  {
   "cell_type": "markdown",
   "metadata": {},
   "source": [
    "# Revising the Select Query II\n",
    "<a>Task</a> : Query the NAME field for all American cities in the CITY table with populations larger than 120000. The CountryCode for America is USA."
   ]
  },
  {
   "cell_type": "code",
   "execution_count": null,
   "metadata": {
    "vscode": {
     "languageId": "sql"
    }
   },
   "outputs": [],
   "source": [
    "select name\n",
    "from city\n",
    "where population > 120000 and countrycode = \"USA\""
   ]
  },
  {
   "cell_type": "markdown",
   "metadata": {},
   "source": [
    "# Select All\n",
    "<a>Task</a> : Query all columns (attributes) for every row in the CITY table."
   ]
  },
  {
   "cell_type": "code",
   "execution_count": null,
   "metadata": {
    "vscode": {
     "languageId": "sql"
    }
   },
   "outputs": [],
   "source": [
    "select * \n",
    "from city"
   ]
  },
  {
   "cell_type": "markdown",
   "metadata": {},
   "source": [
    "# Select By ID\n",
    "<a>Task</a> : Query all columns for a city in CITY with the ID 1661."
   ]
  },
  {
   "cell_type": "code",
   "execution_count": null,
   "metadata": {
    "vscode": {
     "languageId": "sql"
    }
   },
   "outputs": [],
   "source": [
    "select *\n",
    "from city\n",
    "where id = 1661"
   ]
  },
  {
   "cell_type": "markdown",
   "metadata": {},
   "source": [
    "# Japanese Cities' Attributes\n",
    "<a>Task</a> : Query all attributes of every Japanese city in the CITY table. The COUNTRYCODE for Japan is JPN."
   ]
  },
  {
   "cell_type": "code",
   "execution_count": null,
   "metadata": {
    "vscode": {
     "languageId": "sql"
    }
   },
   "outputs": [],
   "source": [
    "select *\n",
    "from city \n",
    "where countrycode = \"JPN\""
   ]
  },
  {
   "cell_type": "markdown",
   "metadata": {},
   "source": [
    "# Japanese Cities' Names\n",
    "<a>Task</a> : Query the names of all the Japanese cities in the CITY table. The COUNTRYCODE for Japan is JPN."
   ]
  },
  {
   "cell_type": "code",
   "execution_count": null,
   "metadata": {
    "vscode": {
     "languageId": "sql"
    }
   },
   "outputs": [],
   "source": [
    "select name\n",
    "from city\n",
    "where countrycode = \"JPN\""
   ]
  },
  {
   "cell_type": "markdown",
   "metadata": {},
   "source": [
    "# Weather Observation Station 1\n",
    "<a>Task</a> : Query a list of CITY and STATE from the STATION table.\n",
    "\n",
    "The STATION table is described as follows:\n",
    "<image src=\"images/station_table.jpg\" width = \"300\"/>"
   ]
  },
  {
   "cell_type": "code",
   "execution_count": null,
   "metadata": {
    "vscode": {
     "languageId": "sql"
    }
   },
   "outputs": [],
   "source": [
    "select city, state\n",
    "from station"
   ]
  },
  {
   "cell_type": "markdown",
   "metadata": {},
   "source": [
    "# Weather Observation Station 3\n",
    "<a>Task</a> : Query a list of CITY names from STATION for cities that have an even ID number. Print the results in any order, but exclude duplicates from the answer."
   ]
  },
  {
   "cell_type": "code",
   "execution_count": null,
   "metadata": {
    "vscode": {
     "languageId": "sql"
    }
   },
   "outputs": [],
   "source": [
    "select distinct city\n",
    "from station\n",
    "where id%2 = 0"
   ]
  },
  {
   "cell_type": "markdown",
   "metadata": {},
   "source": [
    "# Weather Observation Station 4\n",
    "<a>Task</a> : Find the difference between the total number of CITY entries in the table and the number of distinct CITY entries in the table."
   ]
  },
  {
   "cell_type": "code",
   "execution_count": null,
   "metadata": {
    "vscode": {
     "languageId": "sql"
    }
   },
   "outputs": [],
   "source": [
    "select count(city) - count(distinct city)\n",
    "from station"
   ]
  },
  {
   "cell_type": "markdown",
   "metadata": {},
   "source": [
    "# Weather Observation Station 5\n",
    "<a>Task</a> : Query the two cities in STATION with the shortest and longest CITY names, as well as their respective lengths (i.e.: number of characters in the name). If there is more than one smallest or largest city, choose the one that comes first when ordered alphabetically."
   ]
  },
  {
   "cell_type": "code",
   "execution_count": null,
   "metadata": {
    "vscode": {
     "languageId": "sql"
    }
   },
   "outputs": [],
   "source": [
    "select city, length(city) from station\n",
    "order by length(city), city asc\n",
    "limit 1;\n",
    "\n",
    "select city, length(city) from station\n",
    "order by length(city) desc\n",
    "limit 1;"
   ]
  },
  {
   "cell_type": "markdown",
   "metadata": {},
   "source": [
    "# Weather Observation Station 6\n",
    "<a>Task</a> : Query the list of CITY names starting with vowels (i.e., a, e, i, o, or u) from STATION. Your result cannot contain duplicates."
   ]
  },
  {
   "cell_type": "code",
   "execution_count": null,
   "metadata": {
    "vscode": {
     "languageId": "sql"
    }
   },
   "outputs": [],
   "source": [
    "select distinct(city) from station where left(city,1) in ('A','I','E','O','U');"
   ]
  },
  {
   "cell_type": "markdown",
   "metadata": {},
   "source": [
    "# Weather Observation Station 7\n",
    "<a>Task</a> : Query the list of CITY names ending with vowels (a, e, i, o, u) from STATION. Your result cannot contain duplicates."
   ]
  },
  {
   "cell_type": "code",
   "execution_count": null,
   "metadata": {
    "vscode": {
     "languageId": "sql"
    }
   },
   "outputs": [],
   "source": [
    "select distinct(city) from station where right(city,1) in ('a','i','e','o','u');"
   ]
  },
  {
   "cell_type": "markdown",
   "metadata": {},
   "source": [
    "# Weather Observation Station 8\n",
    "<a>Task</a> : Query the list of CITY names from STATION which have vowels (i.e., a, e, i, o, and u) as both their first and last characters. Your result cannot contain duplicates."
   ]
  },
  {
   "cell_type": "code",
   "execution_count": null,
   "metadata": {
    "vscode": {
     "languageId": "sql"
    }
   },
   "outputs": [],
   "source": [
    "select distinct(city) from station where right(city,1) in ('a','i','e','o','u') and left(city,1) in ('A','I','E','O','U');"
   ]
  },
  {
   "cell_type": "markdown",
   "metadata": {},
   "source": [
    "# Weather Observation Station 9\n",
    "<a>Task</a> : Query the list of CITY names from STATION that do not start with vowels. Your result cannot contain duplicates."
   ]
  },
  {
   "cell_type": "code",
   "execution_count": null,
   "metadata": {
    "vscode": {
     "languageId": "sql"
    }
   },
   "outputs": [],
   "source": [
    "select distinct(city) from station where left(city,1) not in ('A','I','E','O','U');"
   ]
  },
  {
   "cell_type": "markdown",
   "metadata": {},
   "source": [
    "# Weather Observation Station 10\n",
    "<a>Task</a> : Query the list of CITY names from STATION that do not end with vowels. Your result cannot contain duplicates."
   ]
  },
  {
   "cell_type": "code",
   "execution_count": null,
   "metadata": {
    "vscode": {
     "languageId": "sql"
    }
   },
   "outputs": [],
   "source": [
    "select distinct(city) from station where right(city,1) not in ('a','i','e','o','u');"
   ]
  },
  {
   "cell_type": "markdown",
   "metadata": {},
   "source": [
    "# Weather Observation Station 11\n",
    "<a>Task</a> : Query the list of CITY names from STATION that either do not start with vowels or do not end with vowels. Your result cannot contain duplicates."
   ]
  },
  {
   "cell_type": "code",
   "execution_count": null,
   "metadata": {
    "vscode": {
     "languageId": "sql"
    }
   },
   "outputs": [],
   "source": [
    "select distinct(city) from station where right(city,1) not in ('a','i','e','o','u') or left(city,1) not in ('A','I','E','O','U');"
   ]
  },
  {
   "cell_type": "markdown",
   "metadata": {},
   "source": [
    "# Weather Observation Station 12\n",
    "<a>Task</a> : Query the list of CITY names from STATION that do not start with vowels and do not end with vowels. Your result cannot contain duplicates."
   ]
  },
  {
   "cell_type": "code",
   "execution_count": null,
   "metadata": {
    "vscode": {
     "languageId": "sql"
    }
   },
   "outputs": [],
   "source": [
    "select distinct(city) from station where right(city,1) not in ('a','i','e','o','u') and left(city,1) not in ('A','I','E','O','U');"
   ]
  },
  {
   "cell_type": "markdown",
   "metadata": {},
   "source": [
    "# Higher Than 75 Marks\n",
    "<a>Task</a> : Query the Name of any student in STUDENTS who scored higher than <em>75</em> Marks. Order your output by the last three characters of each name. If two or more students both have names ending in the same last three characters (i.e.: Bobby, Robby, etc.), secondary sort them by ascending ID.\n",
    "\n",
    "The STUDENTS table is described as follows:\n",
    "<image src=\"images/student_table.jpg\" width = \"300\"/>"
   ]
  },
  {
   "cell_type": "code",
   "execution_count": null,
   "metadata": {
    "vscode": {
     "languageId": "sql"
    }
   },
   "outputs": [],
   "source": [
    "select name from students where marks > 75 order by right(name,3), id asc;"
   ]
  },
  {
   "cell_type": "markdown",
   "metadata": {},
   "source": [
    "# Employee Names\n",
    "<a>Task</a> : Write a query that prints a list of employee names (i.e.: the name attribute) from the Employee table in alphabetical order.\n",
    "\n",
    "The Employee table containing employee data for a company is described as follows:\n",
    "<image src=\"images/employee_table.jpg\" width = \"200\"/>"
   ]
  },
  {
   "cell_type": "code",
   "execution_count": null,
   "metadata": {
    "vscode": {
     "languageId": "sql"
    }
   },
   "outputs": [],
   "source": [
    "select name from employee order by name;"
   ]
  },
  {
   "cell_type": "markdown",
   "metadata": {},
   "source": [
    "# Employee Salaries\n",
    "<a>Task</a> : Write a query that prints a list of employee names (i.e.: the name attribute) for employees in Employee having a salary greater than <em>$2000</em> per month who have been employees for less than <em>10</em> months. Sort your result by ascending employee_id."
   ]
  },
  {
   "cell_type": "code",
   "execution_count": null,
   "metadata": {
    "vscode": {
     "languageId": "sql"
    }
   },
   "outputs": [],
   "source": [
    "select name from employee where salary > 2000 and months < 10 order by employee_id;"
   ]
  },
  {
   "cell_type": "markdown",
   "metadata": {},
   "source": [
    "# The PADS\n",
    "<a>Task</a> : Generate the following two result sets:\n",
    "\n",
    "<li>Query an alphabetically ordered list of all names in OCCUPATIONS, immediately followed by the first letter of each profession as a parenthetical (i.e.: enclosed in parentheses). For example: AnActorName(A), ADoctorName(D), AProfessorName(P), and ASingerName(S).</li>\n",
    "<li>Query the number of ocurrences of each occupation in OCCUPATIONS. Sort the occurrences in ascending order, and output them in the following format:</li>\n",
    "\n",
    "There are a total of [occupation_count] [occupation]s.\n",
    "\n",
    "where [occupation_count] is the number of occurrences of an occupation in OCCUPATIONS and [occupation] is the lowercase occupation name. If more than one Occupation has the same [occupation_count], they should be ordered alphabetically.\n",
    "\n",
    "The OCCUPATIONS table is described as follows:\n",
    "<image src=\"images/occupations_table.jpg\" width = \"200\"/>"
   ]
  },
  {
   "cell_type": "code",
   "execution_count": null,
   "metadata": {
    "vscode": {
     "languageId": "sql"
    }
   },
   "outputs": [],
   "source": [
    "select concat(name, '(', left(occupation,1),')') from occupations order by name; \n",
    "select \"There are a total of\", count(occupation), concat(lower(occupation),\"s.\") from occupations group by occupation order by count(occupation) asc, occupation asc;"
   ]
  },
  {
   "cell_type": "markdown",
   "metadata": {},
   "source": [
    "# Occupations\n",
    "<a>Task</a> : Pivot the Occupation column in OCCUPATIONS so that each Name is sorted alphabetically and displayed underneath its corresponding Occupation. The output column headers should be Doctor, Professor, Singer, and Actor, respectively.\n",
    "\n",
    "Note: Print NULL when there are no more names corresponding to an occupation."
   ]
  },
  {
   "cell_type": "code",
   "execution_count": null,
   "metadata": {
    "vscode": {
     "languageId": "sql"
    }
   },
   "outputs": [],
   "source": [
    "--not my own, but what a perfect solution\n",
    "set @r1=0, @r2=0, @r3=0, @r4=0;\n",
    "select min(Doctor), min(Professor), min(Singer), min(Actor)\n",
    "from(\n",
    "  select case when Occupation='Doctor' then (@r1:=@r1+1)\n",
    "            when Occupation='Professor' then (@r2:=@r2+1)\n",
    "            when Occupation='Singer' then (@r3:=@r3+1)\n",
    "            when Occupation='Actor' then (@r4:=@r4+1) end as RowNumber,\n",
    "    case when Occupation='Doctor' then Name end as Doctor,\n",
    "    case when Occupation='Professor' then Name end as Professor,\n",
    "    case when Occupation='Singer' then Name end as Singer,\n",
    "    case when Occupation='Actor' then Name end as Actor\n",
    "  from OCCUPATIONS\n",
    "  order by Name\n",
    "    ) temp\n",
    "group by RowNumber;"
   ]
  },
  {
   "cell_type": "markdown",
   "metadata": {},
   "source": [
    "# Binary Tree Nodes\n",
    "<a>Task</a> : You are given a table, BST, containing two columns: N and P, where N represents the value of a node in Binary Tree, and P is the parent of N. \n",
    "\n",
    "Write a query to find the node type of Binary Tree ordered by the value of the node. Output one of the following for each node:\n",
    "\n",
    "<li>Root: If node is root node.</li>\n",
    "<li>Leaf: If node is leaf node.</li>\n",
    "<li>Inner: If node is neither root nor leaf node. </li>"
   ]
  }
 ],
 "metadata": {
  "interpreter": {
   "hash": "faf9ab473c29a0dc5a374468e44674fac3077178e3bb26d0489da5aa9d6c7fc0"
  },
  "kernelspec": {
   "display_name": "Python 3.7.7 64-bit",
   "language": "python",
   "name": "python3"
  },
  "language_info": {
   "codemirror_mode": {
    "name": "ipython",
    "version": 3
   },
   "file_extension": ".py",
   "mimetype": "text/x-python",
   "name": "python",
   "nbconvert_exporter": "python",
   "pygments_lexer": "ipython3",
   "version": "3.7.7"
  },
  "orig_nbformat": 4
 },
 "nbformat": 4,
 "nbformat_minor": 2
}
